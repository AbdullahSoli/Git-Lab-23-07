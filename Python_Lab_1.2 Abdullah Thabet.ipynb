{
 "cells": [
  {
   "cell_type": "markdown",
   "metadata": {},
   "source": [
    "# Python_Lab_1.2"
   ]
  },
  {
   "cell_type": "markdown",
   "metadata": {},
   "source": [
    "### Task 1: \n",
    "1. Create a tuple with the following details:\n",
    "    - Your favorite movie (string)\n",
    "    - The year it was released (integer)\n",
    "    - Its rating out of 10 (float)\n",
    "    - Whether you have watched it (boolean)\n",
    "2. Print the detailes"
   ]
  },
  {
   "cell_type": "code",
   "execution_count": 8,
   "metadata": {},
   "outputs": [
    {
     "name": "stdout",
     "output_type": "stream",
     "text": [
      "Favorite Movie: Top Gun: Maverick, Year Released: 2022, Rating out of 10: 9.5, Watched: True\n"
     ]
    }
   ],
   "source": [
    "# write your code here ^_^\n",
    "favorite_movie = (\"Top Gun: Maverick\", 2022, 9.5, True)\n",
    "print(f\"Favorite Movie: {favorite_movie[0]}, Year Released: {favorite_movie[1]}, Rating out of 10: {favorite_movie[2]}, Watched: {favorite_movie[3]}\")\n"
   ]
  },
  {
   "cell_type": "markdown",
   "metadata": {},
   "source": [
    "### Task 2:\n",
    "1. Create a set of 5 favorite colors.\n",
    "2. Print all the colors"
   ]
  },
  {
   "cell_type": "code",
   "execution_count": 12,
   "metadata": {},
   "outputs": [
    {
     "name": "stdout",
     "output_type": "stream",
     "text": [
      "Favorite Colors: {'Blue', 'Gray', 'Yellow', 'Black', 'White'}\n"
     ]
    }
   ],
   "source": [
    "# write your code here ^_^\n",
    "favorite_colors = {\"Gray\", \"Blue\", \"Black\", \"Yellow\", \"White\"}\n",
    "print(\"Favorite Colors:\", favorite_colors)"
   ]
  },
  {
   "cell_type": "markdown",
   "metadata": {},
   "source": [
    "### Task 3:\n",
    "1. Create a dictionary to store information about 3 friends (name as key and a tuple with age and favorite hobby as value).\n",
    "2. Print the details of all friends."
   ]
  },
  {
   "cell_type": "code",
   "execution_count": 14,
   "metadata": {},
   "outputs": [
    {
     "name": "stdout",
     "output_type": "stream",
     "text": [
      "{'Ahmed': (23, 'Football'), 'Hussin': (22, 'Gaming'), 'Saleh': (24, 'Gaming')}\n"
     ]
    }
   ],
   "source": [
    "# write your code here ^_^\n",
    "My_friends = {\n",
    "    \"Ahmed\": (23, \"Football\"),\n",
    "    \"Hussin\": (22, \"Gaming\"),\n",
    "    \"Saleh\": (24, \"Gaming\")\n",
    "}\n",
    "print(My_friends)"
   ]
  },
  {
   "cell_type": "markdown",
   "metadata": {},
   "source": [
    "### Task 4:\n",
    "1. Check if you have watched the movie and print an appropriate message.\n",
    "1. Check if a specific color is in your favorite colors set and print its availability status."
   ]
  },
  {
   "cell_type": "code",
   "execution_count": 46,
   "metadata": {},
   "outputs": [
    {
     "name": "stdout",
     "output_type": "stream",
     "text": [
      "You have seen the  movie Top Gun: Maverick . \n",
      "Gray is in your favorite colors.\n"
     ]
    }
   ],
   "source": [
    "# write your code here ^_^\n",
    "favorite_movie = (\"Top Gun: Maverick\", 2022, 9.5, True)\n",
    "movie = (\"Top Gun: Maverick\", 2022, 9.5, True)\n",
    "if movie[0] == favorite_movie[0]:\n",
    "    print(f\"You have seen the  movie {movie[0]} . \")\n",
    "else:\n",
    "    print(f\"You haven't seen the  movie {movie[0]} .\")\n",
    "\n",
    "\n",
    "favorite_colors = {\"Gray\", \"Blue\", \"Black\", \"Yellow\", \"White\"}\n",
    "color = \"Gray\"\n",
    "if color in favorite_colors:\n",
    "    print(f\"{color} is in your favorite colors.\")\n",
    "else:\n",
    "    print(f\"{color} is not in your favorite colors.\")"
   ]
  },
  {
   "cell_type": "markdown",
   "metadata": {},
   "source": []
  }
 ],
 "metadata": {
  "kernelspec": {
   "display_name": "Python 3 (ipykernel)",
   "language": "python",
   "name": "python3"
  },
  "language_info": {
   "codemirror_mode": {
    "name": "ipython",
    "version": 3
   },
   "file_extension": ".py",
   "mimetype": "text/x-python",
   "name": "python",
   "nbconvert_exporter": "python",
   "pygments_lexer": "ipython3",
   "version": "3.12.4"
  }
 },
 "nbformat": 4,
 "nbformat_minor": 4
}
